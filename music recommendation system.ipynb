{
 "cells": [
  {
   "cell_type": "code",
   "execution_count": null,
   "metadata": {
    "colab": {
     "base_uri": "https://localhost:8080/"
    },
    "id": "q2dRC-eTdc94",
    "outputId": "fa913f9f-88a3-4967-c931-4e2e2334c6b4"
   },
   "outputs": [
    {
     "name": "stderr",
     "output_type": "stream",
     "text": [
      "<ipython-input-3-b5972f6d57c7>:2: DtypeWarning: Columns (8) have mixed types. Specify dtype option on import or set low_memory=False.\n",
      "  df=pd.read_csv(\"tracks_features.csv\")\n"
     ]
    },
    {
     "name": "stdout",
     "output_type": "stream",
     "text": [
      "                       id                   name                      album  \\\n",
      "0  7lmeHLHBe4nmXzuXc0HDjk                Testify  The Battle Of Los Angeles   \n",
      "1  1wsRitfRRtWyEapl0q22o8        Guerrilla Radio  The Battle Of Los Angeles   \n",
      "2  1hR0fIFK2qRG3f3RF70pb7       Calm Like a Bomb  The Battle Of Los Angeles   \n",
      "3  2lbASgTSoDO7MTuLAXlTW0              Mic Check  The Battle Of Los Angeles   \n",
      "4  1MQTmpYOZ6fcMQc56Hdo7T  Sleep Now In the Fire  The Battle Of Los Angeles   \n",
      "\n",
      "                 album_id                       artists  \\\n",
      "0  2eia0myWFgoHuttJytCxgX  ['Rage Against The Machine']   \n",
      "1  2eia0myWFgoHuttJytCxgX  ['Rage Against The Machine']   \n",
      "2  2eia0myWFgoHuttJytCxgX  ['Rage Against The Machine']   \n",
      "3  2eia0myWFgoHuttJytCxgX  ['Rage Against The Machine']   \n",
      "4  2eia0myWFgoHuttJytCxgX  ['Rage Against The Machine']   \n",
      "\n",
      "                   artist_ids  track_number  disc_number explicit  \\\n",
      "0  ['2d0hyoQ5ynDBnkvAbJKORj']             1            1    False   \n",
      "1  ['2d0hyoQ5ynDBnkvAbJKORj']             2            1     True   \n",
      "2  ['2d0hyoQ5ynDBnkvAbJKORj']             3            1    False   \n",
      "3  ['2d0hyoQ5ynDBnkvAbJKORj']             4            1     True   \n",
      "4  ['2d0hyoQ5ynDBnkvAbJKORj']             5            1    False   \n",
      "\n",
      "   danceability  ...  speechiness  acousticness  instrumentalness  liveness  \\\n",
      "0         0.470  ...       0.0727       0.02610          0.000011    0.3560   \n",
      "1         0.599  ...       0.1880       0.01290          0.000071    0.1550   \n",
      "2         0.315  ...       0.4830       0.02340          0.000002    0.1220   \n",
      "3         0.440  ...       0.2370       0.16300          0.000004    0.1210   \n",
      "4         0.426  ...       0.0701       0.00162          0.105000    0.0789   \n",
      "\n",
      "   valence    tempo  duration_ms  time_signature    year  release_date  \n",
      "0    0.503  117.906     210133.0             4.0  1999.0    1999-11-02  \n",
      "1    0.489  103.680     206200.0             4.0  1999.0    1999-11-02  \n",
      "2    0.370  149.749     298893.0             4.0  1999.0    1999-11-02  \n",
      "3    0.574   96.752     213640.0             4.0  1999.0    1999-11-02  \n",
      "4    0.539  127.059     205600.0             4.0  1999.0    1999-11-02  \n",
      "\n",
      "[5 rows x 24 columns]\n"
     ]
    }
   ],
   "source": [
    "import pandas as pd\n",
    "df=pd.read_csv(\"tracks_features.csv\")\n",
    "print(df.head())"
   ]
  },
  {
   "cell_type": "code",
   "execution_count": 2,
   "metadata": {
    "colab": {
     "base_uri": "https://localhost:8080/"
    },
    "id": "AxWf0awreHGp",
    "outputId": "9b688d3e-9f8e-44a9-aee0-58c64ed466f2"
   },
   "outputs": [
    {
     "name": "stdout",
     "output_type": "stream",
     "text": [
      "[[-0.12156168  1.5897166   0.91801558 ...  0.00878068 -0.23862149\n",
      "  -0.68818274]\n",
      " [ 0.55856939  1.51845377  0.86573926 ... -0.45105655 -0.26286779\n",
      "  -0.68818274]\n",
      " [-0.93877343  1.56256886  0.91443501 ...  1.03806488  0.30856944\n",
      "  -0.68818274]\n",
      " ...\n",
      " [ 1.53922349  0.97210543  0.83766759 ...  0.14098469  0.84147029\n",
      "   0.55136696]\n",
      " [ 0.90654342  1.17571351  0.71907911 ...  0.23763261  0.46615501\n",
      "   0.55136696]\n",
      " [ 1.28087913  0.67348025  0.36231113 ...  0.0115282   0.34610714\n",
      "   0.55136696]]\n"
     ]
    }
   ],
   "source": [
    "from sklearn.preprocessing import StandardScaler\n",
    "# Define the list of numeric features to use for recommendations\n",
    "features = ['danceability', 'energy', 'loudness', 'speechiness', 'acousticness',\n",
    "            'instrumentalness', 'liveness', 'valence', 'tempo', 'duration_ms', 'year']\n",
    "\n",
    "# Create a feature matrix from these columns\n",
    "X = df[features].values\n",
    "\n",
    "# Standardize the feature matrix\n",
    "scaler = StandardScaler()\n",
    "X_scaled = scaler.fit_transform(X)\n",
    "print(X_scaled)"
   ]
  },
  {
   "cell_type": "code",
   "execution_count": null,
   "metadata": {
    "id": "2M2lvyk_eNaS"
   },
   "outputs": [],
   "source": []
  },
  {
   "cell_type": "code",
   "execution_count": 4,
   "metadata": {
    "colab": {
     "base_uri": "https://localhost:8080/"
    },
    "id": "y6adId44eXGe",
    "outputId": "bf7aaa89-ead4-4c7f-cf46-3aa62f680c6a"
   },
   "outputs": [
    {
     "name": "stdout",
     "output_type": "stream",
     "text": [
      "Adding item 0\n",
      "Adding item 100000\n",
      "Adding item 200000\n",
      "Adding item 300000\n",
      "Adding item 400000\n",
      "Adding item 500000\n",
      "Adding item 600000\n",
      "Adding item 700000\n",
      "Adding item 800000\n",
      "Adding item 900000\n",
      "Adding item 1000000\n",
      "Adding item 1100000\n",
      "Adding item 1200000\n",
      "Building Annoy index...\n",
      "Annoy index built.\n"
     ]
    }
   ],
   "source": [
    "# Build the Annoy index (using 'angular' distance, which is equivalent to cosine similarity)\n",
    "from annoy import AnnoyIndex\n",
    "f = X_scaled.shape[1]\n",
    "annoy_index = AnnoyIndex(f, 'angular')\n",
    "\n",
    "# Add items to the index (this might take a while for 1.2M items)\n",
    "for i, vector in enumerate(X_scaled):\n",
    "    if i % 100000 == 0:\n",
    "        print(f\"Adding item {i}\")\n",
    "    annoy_index.add_item(i, vector.tolist())\n",
    "\n",
    "# Build the index with a given number of trees (more trees = higher accuracy but slower indexing)\n",
    "n_trees = 10\n",
    "print(\"Building Annoy index...\")\n",
    "annoy_index.build(n_trees)\n",
    "print(\"Annoy index built.\")\n",
    "\n",
    "\n",
    "\n"
   ]
  },
  {
   "cell_type": "code",
   "execution_count": 13,
   "metadata": {
    "id": "Khbfz4-ffCR1"
   },
   "outputs": [],
   "source": [
    "def recommend_song_annoy(song_title, df, X_scaled, annoy_index, top_n=5):\n",
    "    \"\"\"Returns a list of recommended song names based on Annoy search.\"\"\"\n",
    "    indices = df.index[df['name'] == song_title].tolist()\n",
    "    if not indices:\n",
    "        return []  # Return an empty list if the song is not found\n",
    "    idx = indices[0]\n",
    "\n",
    "    # Get the top_n + 1 nearest neighbors (including the song itself)\n",
    "    nearest_indices = annoy_index.get_nns_by_item(idx, top_n + 1)\n",
    "\n",
    "    # Exclude the query song itself (usually the first one)\n",
    "    nearest_indices = [i for i in nearest_indices if i != idx][:top_n]\n",
    "\n",
    "    return df.iloc[nearest_indices]['name'].tolist()  # Extract only song names"
   ]
  },
  {
   "cell_type": "code",
   "execution_count": null,
   "metadata": {
    "colab": {
     "base_uri": "https://localhost:8080/"
    },
    "id": "N-DKqKYse_zO",
    "outputId": "1ec8073f-f306-4dee-fc3e-683af90e8235"
   },
   "outputs": [
    {
     "name": "stdout",
     "output_type": "stream",
     "text": [
      "\n",
      "Recommended Songs:\n",
      "['im used to it', 'Wet Dreams', 'Pharaoh', 'Love Gets You Twisted - Acoustic', \"I'll Be Fine Somehow\"]\n"
     ]
    }
   ],
   "source": [
    "#Single-song Recommendation\n",
    "query_song = 'Dancing With Your Ghost'\n",
    "recommended_songs = recommend_song_annoy(query_song, df, X_scaled, annoy_index, top_n=5)\n",
    "print(\"\\nRecommended Songs:\")\n",
    "print(recommended_songs)"
   ]
  },
  {
   "cell_type": "code",
   "execution_count": null,
   "metadata": {
    "colab": {
     "base_uri": "https://localhost:8080/"
    },
    "id": "ucl0Myp1mP3U",
    "outputId": "09c27a16-4aaa-4cba-d9d9-0d4687e4548e"
   },
   "outputs": [],
   "source": [
    "from collections import defaultdict\n",
    "#Getting the list of most common songs in list \n",
    "def common_songs_priority(*lists):\n",
    "    song_counts = defaultdict(int)\n",
    "    song_positions = {}\n",
    "\n",
    "    # Count occurrences and track first positions\n",
    "    for i, song_list in enumerate(lists):\n",
    "        song_set = set(song_list)  # Remove duplicates in a single list\n",
    "        for song in song_set:\n",
    "            song_counts[song] += 1\n",
    "            if song not in song_positions:\n",
    "                song_positions[song] = i  # First occurrence index\n",
    "\n",
    "    # Find common songs in all lists\n",
    "    num_lists = len(lists)\n",
    "    common_songs = [song for song, count in song_counts.items() if count == num_lists]\n",
    "\n",
    "    # Sort based on first appearance\n",
    "    common_songs.sort(key=lambda song: song_positions[song])\n",
    "\n",
    "    return common_songs\n"
   ]
  },
  {
   "cell_type": "code",
   "execution_count": null,
   "metadata": {
    "colab": {
     "base_uri": "https://localhost:8080/"
    },
    "id": "8nkYFDIRlYUa",
    "outputId": "d31742a6-5941-4cbb-f16c-40f1da9c3628"
   },
   "outputs": [
    {
     "name": "stdout",
     "output_type": "stream",
     "text": [
      "['Money', 'Dreams', 'Why', 'Moonlight', 'Nobody', 'Dream', 'Home', 'Love', 'Without You', 'With You', 'Summertime', 'Trouble', 'One Day', 'Sunshine', 'Tonight', 'On My Own', 'Ghost', 'Forever', 'Alone', 'My Love', 'Temptation', 'Fever', 'Human', 'Drive']\n"
     ]
    }
   ],
   "source": [
    "#Recommendating Songs based Playlist\n",
    "li = ['Levitating', 'Psycho (feat. Ty Dolla $ign)', 'Blank Space', 'You Belong with Me', 'Look What You Made Me Do']\n",
    "\n",
    "# Get recommendations for each song in the playlist\n",
    "recommend = [recommend_song_annoy(song, df, X_scaled, annoy_index, top_n=10000) for song in li]\n",
    "\n",
    "# Find common songs across all recommended lists\n",
    "t = common_songs_priority(*recommend)\n",
    "\n",
    "print(t)"
   ]
  }
 ],
 "metadata": {
  "accelerator": "TPU",
  "colab": {
   "gpuType": "V28",
   "provenance": []
  },
  "kernelspec": {
   "display_name": "base",
   "language": "python",
   "name": "python3"
  },
  "language_info": {
   "codemirror_mode": {
    "name": "ipython",
    "version": 3
   },
   "file_extension": ".py",
   "mimetype": "text/x-python",
   "name": "python",
   "nbconvert_exporter": "python",
   "pygments_lexer": "ipython3",
   "version": "3.12.4"
  }
 },
 "nbformat": 4,
 "nbformat_minor": 4
}
